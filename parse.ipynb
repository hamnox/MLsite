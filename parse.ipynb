{
 "cells": [
  {
   "cell_type": "code",
   "execution_count": 1,
   "metadata": {
    "collapsed": false
   },
   "outputs": [],
   "source": [
    "#!/usr/bin/python\n",
    "\n",
    "# code modified from http://web.stanford.edu/~zlotnick/TextAsData/Web_Scraping_with_Beautiful_Soup.html\n",
    "\n",
    "from bs4 import BeautifulSoup\n",
    "\n",
    "docfile = open(\"nn.html\", \"r\")\n",
    "\n",
    "docbuff = docfile.readlines()\n",
    "\n",
    "docfile.close()\n",
    "## was concerned this would be too long, seems fine tho. Only 1.1M\n",
    "# docbuff = \"nothing here yet\"\n",
    "# while docbuff != None:\n",
    "# print(docfile.tell())"
   ]
  },
  {
   "cell_type": "code",
   "execution_count": 2,
   "metadata": {
    "collapsed": false
   },
   "outputs": [],
   "source": [
    "\n",
    "\n",
    "soup = BeautifulSoup(docbuff[0], \"html.parser\")\n"
   ]
  },
  {
   "cell_type": "code",
   "execution_count": 4,
   "metadata": {
    "collapsed": false
   },
   "outputs": [],
   "source": [
    "# print soup.body.prettify()[5000:10000]\n",
    "category_strings = [category.string for category in categories]\n",
    "# print category_strings\n"
   ]
  },
  {
   "cell_type": "code",
   "execution_count": null,
   "metadata": {
    "collapsed": false
   },
   "outputs": [],
   "source": []
  },
  {
   "cell_type": "code",
   "execution_count": 5,
   "metadata": {
    "collapsed": false
   },
   "outputs": [
    {
     "name": "stdout",
     "output_type": "stream",
     "text": [
      "categories length 114\n",
      "[<span></span>] is empty\n",
      "[<span></span>] is empty\n",
      "[<span></span>] is empty\n",
      "[<span></span>] is empty\n",
      "[<span></span>] is empty\n",
      "[<span></span>] is empty\n",
      "[<span></span>] is empty\n",
      "[<span></span>] is empty\n",
      "[<span></span>] is empty\n",
      "[<span></span>] is empty\n",
      "categories now length 104\n"
     ]
    }
   ],
   "source": [
    "categories = soup.body.find_all([\"h1\",\"h2\",\"h3\",\"h4\",\"h5\",\"h6\"])\n",
    "\n",
    "print \"categories length\", len(categories)\n",
    "for category in categories:\n",
    "    if not category.text:\n",
    "        print category.contents, \"is empty\"\n",
    "        categories.remove(category)\n",
    "\n",
    "print \"categories now length\", len(categories)"
   ]
  },
  {
   "cell_type": "code",
   "execution_count": null,
   "metadata": {
    "collapsed": false
   },
   "outputs": [],
   "source": [
    "import re\n",
    "from bs4 import NavigableString\n",
    "\n",
    "def is_only_string(soup_item):\n",
    "# if isinstance(soup_item.child, NavigableString)\n",
    "    i = 0\n",
    "    if soup_item.name in [\"h1\", \"h2\", \"h3\", \"h4\", \"h5\", \"h6\"]:\n",
    "        return False\n",
    "    for child in soup_item.children:\n",
    "        if not isinstance(child, NavigableString):\n",
    "            return False\n",
    "        i += 1\n",
    "    else:\n",
    "        if i > 1:\n",
    "            return False\n",
    "        else:\n",
    "            return True\n",
    "\n",
    "\n",
    "all_strings = soup.body.find_all(\"span\", string=re.compile(\".+\"))\n",
    "\n",
    "\n",
    "# first and last item should be [category, last_linked]\n",
    "ambiguous_items = list()\n",
    "\n",
    "# [[category, prev_linked], [category, next_linked], [ambiguous_spans]]\n",
    "ambiguous_all = list()\n",
    "\n",
    "# [[category, first_link, text, all_links]]\n",
    "parsed = list()\n",
    "last_category = None\n",
    "last_linked = None\n",
    "\n",
    "for item in all_strings:\n",
    "    # ignore categories\n",
    "    if item.string in category_strings:\n",
    "        last_category = item.string\n",
    "        if ambiguous_items:\n",
    "            ambiguous_all.append([[ambiguous_items[1], [last_category, None]],\n",
    "                                 [ambiguous_items[2:]]])\n",
    "            ambiguous_items = list()\n",
    "    links = list()\n",
    "    for link in item.find_all(\"a\"):\n",
    "        if link.get(\"href\"):\n",
    "            links.append(link.get(\"href\"))\n",
    "    if links:\n",
    "        last_linked = item\n",
    "        if ambiguous_items:\n",
    "            ambiguous_all.append([[ambiguous_items[1],\n",
    "                                   [last_category, last_linked]],\n",
    "                                 [ambiguous_items[2:]]])\n",
    "            ambiguous_items = list()\n",
    "        parsed.append([last_category, links[1], parsed.string, links])\n",
    "    else:\n",
    "        ambiguous_items.append([last_category, last_linked])\n",
    "        ambiguous_items.append([last_category, item.string])\n",
    "else:\n",
    "    if ambiguous_items:\n",
    "        ambiguous_all.append([[ambiguous_items[1], [last_category, None]],\n",
    "                                 [ambiguous_items[2:]]])\n"
   ]
  },
  {
   "cell_type": "code",
   "execution_count": null,
   "metadata": {
    "collapsed": true
   },
   "outputs": [],
   "source": [
    "\n",
    "import csv\n",
    "with open('some.csv', 'wb') as f:\n",
    "    writer = csv.writer(f)\n",
    "    writer.writerows(someiterable)"
   ]
  },
  {
   "cell_type": "code",
   "execution_count": null,
   "metadata": {
    "collapsed": false
   },
   "outputs": [],
   "source": [
    "from bs4 import BeautifulSoup\n",
    "test = \"<body></body>\"\n",
    "test = BeautifulSoup(test, \"html.parser\")\n",
    "links = list()\n",
    "for link in test.find_all(\"a\"):\n",
    "    if link.get(\"href\"):\n",
    "        links.append(link.get(\"href\"))\n",
    "        \n",
    "if links:\n",
    "    print links\n",
    "else:\n",
    "    print \"hi!\"\n"
   ]
  },
  {
   "cell_type": "code",
   "execution_count": null,
   "metadata": {
    "collapsed": true
   },
   "outputs": [],
   "source": [
    "\"\""
   ]
  }
 ],
 "metadata": {
  "kernelspec": {
   "display_name": "Python 2",
   "language": "python",
   "name": "python2"
  },
  "language_info": {
   "codemirror_mode": {
    "name": "ipython",
    "version": 2
   },
   "file_extension": ".py",
   "mimetype": "text/x-python",
   "name": "python",
   "nbconvert_exporter": "python",
   "pygments_lexer": "ipython2",
   "version": "2.7.11+"
  }
 },
 "nbformat": 4,
 "nbformat_minor": 0
}
